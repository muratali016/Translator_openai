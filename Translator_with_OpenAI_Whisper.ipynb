{
  "nbformat": 4,
  "nbformat_minor": 0,
  "metadata": {
    "colab": {
      "provenance": [],
      "include_colab_link": true
    },
    "kernelspec": {
      "name": "python3",
      "display_name": "Python 3"
    },
    "language_info": {
      "name": "python"
    },
    "accelerator": "GPU"
  },
  "cells": [
    {
      "cell_type": "markdown",
      "metadata": {
        "id": "view-in-github",
        "colab_type": "text"
      },
      "source": [
        "<a href=\"https://colab.research.google.com/github/muratali016/Translator_openai/blob/main/Translator_with_OpenAI_Whisper.ipynb\" target=\"_parent\"><img src=\"https://colab.research.google.com/assets/colab-badge.svg\" alt=\"Open In Colab\"/></a>"
      ]
    },
    {
      "cell_type": "code",
      "execution_count": null,
      "metadata": {
        "id": "XRRPAS8t1DXJ"
      },
      "outputs": [],
      "source": [
        "!pip install git+https://github.com/openai/whisper.git\n",
        "!pip install gTTs"
      ]
    },
    {
      "cell_type": "code",
      "source": [
        "!sudo apt update && sudo apt install ffmpeg"
      ],
      "metadata": {
        "id": "-YsDcsci1xRE"
      },
      "execution_count": null,
      "outputs": []
    },
    {
      "cell_type": "code",
      "source": [
        "\"\"\"\n",
        "To write this piece of code I took inspiration/code from a lot of places.\n",
        "It was late night, so I'm not sure how much I created or just copied o.O\n",
        "Here are some of the possible references:\n",
        "https://blog.addpipe.com/recording-audio-in-the-browser-using-pure-html5-and-minimal-javascript/\n",
        "https://stackoverflow.com/a/18650249\n",
        "https://hacks.mozilla.org/2014/06/easy-audio-capture-with-the-mediarecorder-api/\n",
        "https://air.ghost.io/recording-to-an-audio-file-using-html5-and-js/\n",
        "https://stackoverflow.com/a/49019356\n",
        "\"\"\"\n",
        "from IPython.display import HTML, Audio\n",
        "from google.colab.output import eval_js\n",
        "from base64 import b64decode\n",
        "import numpy as np\n",
        "from scipy.io.wavfile import read as wav_read\n",
        "import io\n",
        "import ffmpeg\n",
        "from scipy.io.wavfile import write\n",
        "AUDIO_HTML = \"\"\"\n",
        "<script>\n",
        "var my_div = document.createElement(\"DIV\");\n",
        "var my_p = document.createElement(\"P\");\n",
        "var my_btn = document.createElement(\"BUTTON\");\n",
        "var t = document.createTextNode(\"Start recording\");\n",
        "\n",
        "my_btn.appendChild(t);\n",
        "//my_p.appendChild(my_btn);\n",
        "my_div.appendChild(my_btn);\n",
        "document.body.appendChild(my_div);\n",
        "\n",
        "var base64data = 0;\n",
        "var reader;\n",
        "var recorder, gumStream;\n",
        "var recordButton = my_btn;\n",
        "\n",
        "var handleSuccess = function(stream) {\n",
        "  gumStream = stream;\n",
        "  var options = {\n",
        "    //bitsPerSecond: 8000,  \n",
        "    mimeType : 'audio/webm;codecs=opus'\n",
        "    //mimeType : 'audio/webm;codecs=pcm'\n",
        "  };            \n",
        "  //recorder = new MediaRecorder(stream, options);\n",
        "  recorder = new MediaRecorder(stream);\n",
        "  recorder.ondataavailable = function(e) {            \n",
        "    var url = URL.createObjectURL(e.data);\n",
        "    var preview = document.createElement('audio');\n",
        "    preview.controls = true;\n",
        "    preview.src = url;\n",
        "    document.body.appendChild(preview);\n",
        "\n",
        "    reader = new FileReader();\n",
        "    reader.readAsDataURL(e.data); \n",
        "    reader.onloadend = function() {\n",
        "      base64data = reader.result;\n",
        "      //console.log(\"Inside FileReader:\" + base64data);\n",
        "    }\n",
        "  };\n",
        "  recorder.start();\n",
        "  };\n",
        "\n",
        "recordButton.innerText = \"Recording, press to stop\";\n",
        "\n",
        "navigator.mediaDevices.getUserMedia({audio: true}).then(handleSuccess);\n",
        "\n",
        "\n",
        "function toggleRecording() {\n",
        "  if (recorder && recorder.state == \"recording\") {\n",
        "      recorder.stop();\n",
        "      gumStream.getAudioTracks()[0].stop();\n",
        "      recordButton.innerText = \"Saving the recording\"\n",
        "  }\n",
        "}\n",
        "\n",
        "// https://stackoverflow.com/a/951057\n",
        "function sleep(ms) {\n",
        "  return new Promise(resolve => setTimeout(resolve, ms));\n",
        "}\n",
        "\n",
        "var data = new Promise(resolve=>{\n",
        "//recordButton.addEventListener(\"click\", toggleRecording);\n",
        "recordButton.onclick = ()=>{\n",
        "toggleRecording()\n",
        "\n",
        "sleep(2000).then(() => {\n",
        "  // wait 2000ms for the data to be available...\n",
        "  // ideally this should use something like await...\n",
        "  //console.log(\"Inside data:\" + base64data)\n",
        "  resolve(base64data.toString())\n",
        "\n",
        "});\n",
        "\n",
        "}\n",
        "});\n",
        "      \n",
        "</script>\n",
        "\"\"\"\n",
        "\n",
        "def get_audio():\n",
        "  display(HTML(AUDIO_HTML))\n",
        "  data = eval_js(\"data\")\n",
        "  binary = b64decode(data.split(',')[1])\n",
        "  \n",
        "  process = (ffmpeg\n",
        "    .input('pipe:0')\n",
        "    .output('pipe:1', format='wav')\n",
        "    .run_async(pipe_stdin=True, pipe_stdout=True, pipe_stderr=True, quiet=True, overwrite_output=True)\n",
        "  )\n",
        "  output, err = process.communicate(input=binary)\n",
        "  \n",
        "  riff_chunk_size = len(output) - 8\n",
        "  # Break up the chunk size into four bytes, held in b.\n",
        "  q = riff_chunk_size\n",
        "  b = []\n",
        "  for i in range(4):\n",
        "      q, r = divmod(q, 256)\n",
        "      b.append(r)\n",
        "\n",
        "  # Replace bytes 4:8 in proc.stdout with the actual size of the RIFF chunk.\n",
        "  riff = output[:4] + bytes(b) + output[8:]\n",
        "\n",
        "  sr, audio = wav_read(io.BytesIO(riff))\n",
        "  write('audio.wav', sr, audio)\n",
        "  return audio, sr\n",
        "audio, sr = get_audio()\n",
        "!whisper \"/content/audio.wav\" --task translate --language tr\n",
        "\n",
        "with open('/content/audio.txt', 'r') as f:\n",
        "    text = f.read()\n",
        "   \n",
        "with open('/content/audio.txt', 'r') as f:\n",
        "    text = f.read()\n",
        "print(text)   \n",
        "from gtts import gTTS\n",
        "from IPython.display import Audio\n",
        "from IPython.display import display\n",
        "\n",
        "tts = gTTS(text) \n",
        "tts.save('1.wav')\n",
        "sound_file = '1.wav'\n",
        "wn = Audio(sound_file, autoplay=True)  \n",
        "display(wn) "
      ],
      "metadata": {
        "colab": {
          "base_uri": "https://localhost:8080/",
          "height": 208
        },
        "id": "hh8jZbcUsN58",
        "outputId": "902a8410-0ddc-4bca-8b59-d7d577e9b888"
      },
      "execution_count": 14,
      "outputs": [
        {
          "output_type": "display_data",
          "data": {
            "text/plain": [
              "<IPython.core.display.HTML object>"
            ],
            "text/html": [
              "\n",
              "<script>\n",
              "var my_div = document.createElement(\"DIV\");\n",
              "var my_p = document.createElement(\"P\");\n",
              "var my_btn = document.createElement(\"BUTTON\");\n",
              "var t = document.createTextNode(\"Start recording\");\n",
              "\n",
              "my_btn.appendChild(t);\n",
              "//my_p.appendChild(my_btn);\n",
              "my_div.appendChild(my_btn);\n",
              "document.body.appendChild(my_div);\n",
              "\n",
              "var base64data = 0;\n",
              "var reader;\n",
              "var recorder, gumStream;\n",
              "var recordButton = my_btn;\n",
              "\n",
              "var handleSuccess = function(stream) {\n",
              "  gumStream = stream;\n",
              "  var options = {\n",
              "    //bitsPerSecond: 8000,  \n",
              "    mimeType : 'audio/webm;codecs=opus'\n",
              "    //mimeType : 'audio/webm;codecs=pcm'\n",
              "  };            \n",
              "  //recorder = new MediaRecorder(stream, options);\n",
              "  recorder = new MediaRecorder(stream);\n",
              "  recorder.ondataavailable = function(e) {            \n",
              "    var url = URL.createObjectURL(e.data);\n",
              "    var preview = document.createElement('audio');\n",
              "    preview.controls = true;\n",
              "    preview.src = url;\n",
              "    document.body.appendChild(preview);\n",
              "\n",
              "    reader = new FileReader();\n",
              "    reader.readAsDataURL(e.data); \n",
              "    reader.onloadend = function() {\n",
              "      base64data = reader.result;\n",
              "      //console.log(\"Inside FileReader:\" + base64data);\n",
              "    }\n",
              "  };\n",
              "  recorder.start();\n",
              "  };\n",
              "\n",
              "recordButton.innerText = \"Recording, press to stop\";\n",
              "\n",
              "navigator.mediaDevices.getUserMedia({audio: true}).then(handleSuccess);\n",
              "\n",
              "\n",
              "function toggleRecording() {\n",
              "  if (recorder && recorder.state == \"recording\") {\n",
              "      recorder.stop();\n",
              "      gumStream.getAudioTracks()[0].stop();\n",
              "      recordButton.innerText = \"Saving the recording\"\n",
              "  }\n",
              "}\n",
              "\n",
              "// https://stackoverflow.com/a/951057\n",
              "function sleep(ms) {\n",
              "  return new Promise(resolve => setTimeout(resolve, ms));\n",
              "}\n",
              "\n",
              "var data = new Promise(resolve=>{\n",
              "//recordButton.addEventListener(\"click\", toggleRecording);\n",
              "recordButton.onclick = ()=>{\n",
              "toggleRecording()\n",
              "\n",
              "sleep(2000).then(() => {\n",
              "  // wait 2000ms for the data to be available...\n",
              "  // ideally this should use something like await...\n",
              "  //console.log(\"Inside data:\" + base64data)\n",
              "  resolve(base64data.toString())\n",
              "\n",
              "});\n",
              "\n",
              "}\n",
              "});\n",
              "      \n",
              "</script>\n"
            ]
          },
          "metadata": {}
        },
        {
          "output_type": "stream",
          "name": "stdout",
          "text": [
            "[00:00.000 --> 00:02.000]  Hello, my name is Murat Ali Abciz. How are you?\n",
            "Hello, my name is Murat Ali Abciz. How are you?\n",
            "\n"
          ]
        },
        {
          "output_type": "display_data",
          "data": {
            "text/plain": [
              "<IPython.lib.display.Audio object>"
            ],
            "text/html": [
              "\n",
              "                <audio  controls=\"controls\" autoplay=\"autoplay\">\n",
              "                    <source src=\"data:audio/x-wav;base64,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\" type=\"audio/x-wav\" />\n",
              "                    Your browser does not support the audio element.\n",
              "                </audio>\n",
              "              "
            ]
          },
          "metadata": {}
        }
      ]
    },
    {
      "cell_type": "code",
      "source": [
        "!whisper \"/content/audio.wav\" --model medium"
      ],
      "metadata": {
        "colab": {
          "base_uri": "https://localhost:8080/"
        },
        "id": "-1pP466t8kpv",
        "outputId": "9c785ff6-fe71-48db-d1b2-a2ca69df55b4"
      },
      "execution_count": 10,
      "outputs": [
        {
          "output_type": "stream",
          "name": "stdout",
          "text": [
            "Detecting language using up to the first 30 seconds. Use `--language` to specify the language\n",
            "Detected language: Turkish\n",
            "[00:00.000 --> 00:06.000]  Merhaba, ben Murat Ali Avcı. Bursa'da yaşıyorum ve üniversitede okuyorum.\n"
          ]
        }
      ]
    },
    {
      "cell_type": "code",
      "source": [
        "!whisper \"/content/audio.wav\" --task translate "
      ],
      "metadata": {
        "colab": {
          "base_uri": "https://localhost:8080/"
        },
        "id": "DnZqS_5D2lhp",
        "outputId": "8949f37d-6b7e-47c4-aad4-bbd0d3bb7b92"
      },
      "execution_count": 11,
      "outputs": [
        {
          "output_type": "stream",
          "name": "stdout",
          "text": [
            "Detecting language using up to the first 30 seconds. Use `--language` to specify the language\n",
            "Detected language: Turkish\n",
            "[00:00.000 --> 00:02.000]  Hello, I'm Murat Elavcı.\n",
            "[00:02.000 --> 00:04.000]  I live in Bursa.\n",
            "[00:04.000 --> 00:06.000]  I study at the university.\n"
          ]
        }
      ]
    }
  ]
}